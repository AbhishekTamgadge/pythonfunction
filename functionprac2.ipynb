{
 "cells": [
  {
   "cell_type": "code",
   "execution_count": 1,
   "metadata": {},
   "outputs": [
    {
     "name": "stdout",
     "output_type": "stream",
     "text": [
      "factorial of 5 is 120\n"
     ]
    }
   ],
   "source": [
    "# Function to calculate the factorial of a number\n",
    "\n",
    "def factorial(n):\n",
    "    if n == 0 or n == 1:\n",
    "        return 1\n",
    "    else:\n",
    "        return n * factorial(n-1)\n",
    "    \n",
    "num = int(input(\"Please enter a number: \"))\n",
    "result = factorial(num)\n",
    "print(\"factorial of\", num, \"is\", result)"
   ]
  },
  {
   "cell_type": "code",
   "execution_count": 2,
   "metadata": {},
   "outputs": [
    {
     "name": "stdout",
     "output_type": "stream",
     "text": [
      "multiplication of 2 And 4 is 6\n"
     ]
    }
   ],
   "source": [
    "def MathsOp(a,b,op):\n",
    "    if(op == \"+\"):\n",
    "        return a+b\n",
    "    elif(op == \"-\"):\n",
    "        return a-b\n",
    "    elif(op == \"*\"):\n",
    "        return a*b\n",
    "    else:\n",
    "        return a/b\n",
    "    \n",
    "opMul = MathsOp(2,4,\"+\")\n",
    "\n",
    "print(\"multiplication of 2 And 4 is {}\".format(opMul))"
   ]
  },
  {
   "cell_type": "code",
   "execution_count": 4,
   "metadata": {},
   "outputs": [
    {
     "ename": "NameError",
     "evalue": "name 'renge' is not defined",
     "output_type": "error",
     "traceback": [
      "\u001b[1;31m---------------------------------------------------------------------------\u001b[0m",
      "\u001b[1;31mNameError\u001b[0m                                 Traceback (most recent call last)",
      "\u001b[1;32me:\\Data anylitics\\Python\\Githubpractice\\pythonfunction\\functionprac2.ipynb Cell 3\u001b[0m line \u001b[0;36m9\n\u001b[0;32m      <a href='vscode-notebook-cell:/e%3A/Data%20anylitics/Python/Githubpractice/pythonfunction/functionprac2.ipynb#W2sZmlsZQ%3D%3D?line=4'>5</a>\u001b[0m     \u001b[39mreturn\u001b[39;00m total\n\u001b[0;32m      <a href='vscode-notebook-cell:/e%3A/Data%20anylitics/Python/Githubpractice/pythonfunction/functionprac2.ipynb#W2sZmlsZQ%3D%3D?line=6'>7</a>\u001b[0m num \u001b[39m=\u001b[39m \u001b[39mint\u001b[39m(\u001b[39minput\u001b[39m(\u001b[39m\"\u001b[39m\u001b[39mEnter a number: \u001b[39m\u001b[39m\"\u001b[39m))\n\u001b[1;32m----> <a href='vscode-notebook-cell:/e%3A/Data%20anylitics/Python/Githubpractice/pythonfunction/functionprac2.ipynb#W2sZmlsZQ%3D%3D?line=8'>9</a>\u001b[0m result \u001b[39m=\u001b[39m calculate_sum(num)\n\u001b[0;32m     <a href='vscode-notebook-cell:/e%3A/Data%20anylitics/Python/Githubpractice/pythonfunction/functionprac2.ipynb#W2sZmlsZQ%3D%3D?line=9'>10</a>\u001b[0m \u001b[39mprint\u001b[39m(\u001b[39m\"\u001b[39m\u001b[39msum of number from 1 to\u001b[39m\u001b[39m\"\u001b[39m, num, \u001b[39m\"\u001b[39m\u001b[39mis\u001b[39m\u001b[39m\"\u001b[39m, result)\n",
      "\u001b[1;32me:\\Data anylitics\\Python\\Githubpractice\\pythonfunction\\functionprac2.ipynb Cell 3\u001b[0m line \u001b[0;36m3\n\u001b[0;32m      <a href='vscode-notebook-cell:/e%3A/Data%20anylitics/Python/Githubpractice/pythonfunction/functionprac2.ipynb#W2sZmlsZQ%3D%3D?line=0'>1</a>\u001b[0m \u001b[39mdef\u001b[39;00m \u001b[39mcalculate_sum\u001b[39m(n):\n\u001b[0;32m      <a href='vscode-notebook-cell:/e%3A/Data%20anylitics/Python/Githubpractice/pythonfunction/functionprac2.ipynb#W2sZmlsZQ%3D%3D?line=1'>2</a>\u001b[0m     total \u001b[39m=\u001b[39m \u001b[39m0\u001b[39m\n\u001b[1;32m----> <a href='vscode-notebook-cell:/e%3A/Data%20anylitics/Python/Githubpractice/pythonfunction/functionprac2.ipynb#W2sZmlsZQ%3D%3D?line=2'>3</a>\u001b[0m     \u001b[39mfor\u001b[39;00m i \u001b[39min\u001b[39;00m renge(\u001b[39m1\u001b[39m, n \u001b[39m+\u001b[39m \u001b[39m1\u001b[39m ):\n\u001b[0;32m      <a href='vscode-notebook-cell:/e%3A/Data%20anylitics/Python/Githubpractice/pythonfunction/functionprac2.ipynb#W2sZmlsZQ%3D%3D?line=3'>4</a>\u001b[0m         total \u001b[39m+\u001b[39m\u001b[39m=\u001b[39m i\n\u001b[0;32m      <a href='vscode-notebook-cell:/e%3A/Data%20anylitics/Python/Githubpractice/pythonfunction/functionprac2.ipynb#W2sZmlsZQ%3D%3D?line=4'>5</a>\u001b[0m     \u001b[39mreturn\u001b[39;00m total\n",
      "\u001b[1;31mNameError\u001b[0m: name 'renge' is not defined"
     ]
    }
   ],
   "source": [
    "def calculate_sum(n):\n",
    "    total = 0\n",
    "    for i in renge(1, n + 1 ):\n",
    "        total += i\n",
    "    return total\n",
    "    \n",
    "num = int(input(\"Enter a number: \"))\n",
    "\n",
    "result = calculate_sum(num)\n",
    "print(\"sum of number from 1 to\", num, \"is\", result)"
   ]
  },
  {
   "cell_type": "code",
   "execution_count": 5,
   "metadata": {},
   "outputs": [
    {
     "name": "stdout",
     "output_type": "stream",
     "text": [
      "Friday\n"
     ]
    }
   ],
   "source": [
    "def identify_day(day_number):\n",
    "    match day_number:\n",
    "        case 1:\n",
    "            day_name = \"Sunday\"\n",
    "        case 2:\n",
    "            day_name = \"Monday\"\n",
    "        case 3:\n",
    "            day_name = \"Tuesday\"\n",
    "        case 4:\n",
    "            day_name = \"Wednesday\"\n",
    "        case 5:\n",
    "            day_name = \"Thursday\"\n",
    "        case 6:\n",
    "            day_name = \"Friday\"\n",
    "        case 7:\n",
    "            day_name = \"Saturday\"\n",
    "        case 8:\n",
    "            day_name = \"Invalid Day\"\n",
    "    return day_name\n",
    "\n",
    "user_input = int(input(\"Enter a day number (1-7): \"))\n",
    "print(identify_day(user_input))"
   ]
  },
  {
   "cell_type": "code",
   "execution_count": null,
   "metadata": {},
   "outputs": [],
   "source": []
  }
 ],
 "metadata": {
  "kernelspec": {
   "display_name": "base",
   "language": "python",
   "name": "python3"
  },
  "language_info": {
   "codemirror_mode": {
    "name": "ipython",
    "version": 3
   },
   "file_extension": ".py",
   "mimetype": "text/x-python",
   "name": "python",
   "nbconvert_exporter": "python",
   "pygments_lexer": "ipython3",
   "version": "3.11.5"
  }
 },
 "nbformat": 4,
 "nbformat_minor": 2
}
